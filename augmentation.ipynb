{
 "cells": [
  {
   "cell_type": "code",
   "execution_count": 2,
   "metadata": {},
   "outputs": [],
   "source": [
    "import os\n",
    "import cv2\n",
    "import albumentations as A\n",
    "import itertools"
   ]
  },
  {
   "cell_type": "code",
   "execution_count": 5,
   "metadata": {},
   "outputs": [],
   "source": [
    "# Define your transformations\n",
    "transformations = {\n",
    "    'BrightnessContrast': A.RandomBrightnessContrast(always_apply=True, p=1.0, brightness_limit=(-0.4, 0.4), contrast_limit=(-0.4, 0.4), brightness_by_max=False),\n",
    "    'SafeRotate': A.SafeRotate(always_apply=True, p=1.0, limit=(-10, 10), interpolation=2, border_mode=0, value=(0, 0, 0), mask_value=None),\n",
    "    'GaussNoise': A.GaussNoise(always_apply=True, p=1.0, var_limit=(100.0, 200.0)),\n",
    "    'ColorJitter': A.ColorJitter(always_apply=True, brightness=0.2, contrast=0.2, saturation=0.2, hue=0.2, p=0.5)\n",
    "}\n",
    "\n",
    "# Directories\n",
    "original_images_dir = './data/generated_images/train'  # Directory containing original images\n",
    "augmented_images_dir = './data/generated_images/train/augmented'  # Directory to save augmented images"
   ]
  },
  {
   "cell_type": "code",
   "execution_count": 6,
   "metadata": {},
   "outputs": [],
   "source": [
    "\n",
    "\n",
    "if not os.path.exists(augmented_images_dir):\n",
    "    os.makedirs(augmented_images_dir)"
   ]
  },
  {
   "cell_type": "code",
   "execution_count": 8,
   "metadata": {},
   "outputs": [
    {
     "name": "stdout",
     "output_type": "stream",
     "text": [
      "./data/generated_images/train/augmented\n",
      "Number of files in the folder: 3000\n"
     ]
    }
   ],
   "source": [
    "folder_path = augmented_images_dir\n",
    "print(folder_path)\n",
    "file_count  = len([name for name in os.listdir(folder_path) if os.path.isfile(os.path.join(folder_path, name))])\n",
    "print(f\"Number of files in the folder: {file_count}\")"
   ]
  },
  {
   "cell_type": "code",
   "execution_count": 7,
   "metadata": {},
   "outputs": [
    {
     "name": "stdout",
     "output_type": "stream",
     "text": [
      "Augmentation completed.\n"
     ]
    }
   ],
   "source": [
    "# Create a cycle of transformations\n",
    "cycle_transformations = itertools.cycle(transformations.items())\n",
    "\n",
    "# Process each image with a different transformation\n",
    "for i, (filename, (transform_name, transform)) in enumerate(zip(os.listdir(original_images_dir)[:3000], cycle_transformations)):  # Limit to first 3000 images\n",
    "    if filename.endswith(('.png', '.jpg', '.jpeg')):  # Check for image file\n",
    "        # Read the image\n",
    "        image_path = os.path.join(original_images_dir, filename)\n",
    "        image = cv2.imread(image_path)\n",
    "        image = cv2.cvtColor(image, cv2.COLOR_BGR2RGB)  # Convert to RGB\n",
    "\n",
    "        # Apply the transformation and save the result\n",
    "        transformed_image = transform(image=image)['image']\n",
    "        # Save the transformed image\n",
    "        save_path = os.path.join(augmented_images_dir, f\"{i}_{transform_name}_{filename}\")\n",
    "        cv2.imwrite(save_path, transformed_image)\n",
    "\n",
    "print(\"Augmentation completed.\")"
   ]
  },
  {
   "cell_type": "code",
   "execution_count": null,
   "metadata": {},
   "outputs": [],
   "source": []
  }
 ],
 "metadata": {
  "kernelspec": {
   "display_name": "yolov8",
   "language": "python",
   "name": "python3"
  },
  "language_info": {
   "codemirror_mode": {
    "name": "ipython",
    "version": 3
   },
   "file_extension": ".py",
   "mimetype": "text/x-python",
   "name": "python",
   "nbconvert_exporter": "python",
   "pygments_lexer": "ipython3",
   "version": "3.9.18"
  }
 },
 "nbformat": 4,
 "nbformat_minor": 2
}

{
 "cells": [
  {
   "cell_type": "code",
   "execution_count": null,
   "metadata": {},
   "outputs": [],
   "source": [
    "import os\n",
    "import shutil"
   ]
  },
  {
   "cell_type": "code",
   "execution_count": null,
   "metadata": {},
   "outputs": [],
   "source": [
    "# Paths to the directories\n",
    "label_dir = '../Data/genc/labels/train2017'  # Replace with your label directory path\n",
    "image_dir = '../Data/genc/images/train2017'  # Replace with your image directory path\n",
    "output_dir = 'path/to/output/dir'  # Replace with your desired output directory\n",
    "\n",
    "missed_cnt = 0 \n",
    "# Ensure output directory exists\n",
    "if not os.path.exists(output_dir):\n",
    "    os.makedirs(output_dir)\n",
    "\n",
    "# Process each label file\n",
    "for filename in os.listdir(label_dir):\n",
    "    if filename.endswith('.txt'):\n",
    "        with open(os.path.join(label_dir, filename), 'r') as file:\n",
    "            if any('0 ' in line for line in file):  # Check for class ID 0\n",
    "                # Corresponding image file\n",
    "                image_filename = filename.replace('.txt', '.jpg')  # Change extension as needed\n",
    "                image_path = os.path.join(image_dir, image_filename)\n",
    "\n",
    "                if os.path.exists(image_path):\n",
    "                    # Copy image to output directory\n",
    "                    shutil.copy(image_path, os.path.join(output_dir, image_filename))\n",
    "                else:\n",
    "                    missed_cnt +1\n",
    "\n",
    "print(missed_cnt)\n",
    "\n",
    "# End of script\n"
   ]
  },
  {
   "cell_type": "markdown",
   "metadata": {},
   "source": [
    "#### Split natural train-valid-test"
   ]
  },
  {
   "cell_type": "code",
   "execution_count": null,
   "metadata": {},
   "outputs": [],
   "source": [
    "import os\n",
    "import random\n",
    "import shutil\n",
    "\n",
    "# Path to the directory containing all images\n",
    "data_dir = './data/extracted_imgs'  # Replace with your data directory path\n",
    "\n",
    "# Paths for train, validation, and test directories\n",
    "train_dir = './data/natural_images/train'\n",
    "valid_dir = './data/natural_images/valid'\n",
    "test_dir = './data/natural_images/test'\n",
    "\n",
    "# Ensure the directories exist\n",
    "for dir_path in [train_dir, valid_dir, test_dir]:\n",
    "    if not os.path.exists(dir_path):\n",
    "        os.makedirs(dir_path)\n",
    "\n",
    "# Get a list of all files in the data directory\n",
    "all_files = os.listdir(data_dir)\n",
    "random.shuffle(all_files)  # Shuffle the list to ensure random selection\n",
    "\n",
    "# Split the files into train, valid, and test\n",
    "train_files = all_files[:10000]\n",
    "valid_files = all_files[10000:17000]\n",
    "test_files = all_files[17000:18500]\n",
    "\n",
    "# Function to copy files to a target directory\n",
    "def copy_files(files, target_dir):\n",
    "    for file in files:\n",
    "        source_path = os.path.join(data_dir, file)\n",
    "        target_path = os.path.join(target_dir, file)\n",
    "        shutil.copy(source_path, target_path)\n",
    "\n",
    "# Copy files to respective directories\n",
    "copy_files(train_files, train_dir)\n",
    "copy_files(valid_files, valid_dir)\n",
    "copy_files(test_files, test_dir)\n",
    "\n",
    "print(\"Dataset split into train, validation, and test sets.\")\n"
   ]
  },
  {
   "cell_type": "markdown",
   "metadata": {},
   "source": [
    "### split generated"
   ]
  },
  {
   "cell_type": "code",
   "execution_count": null,
   "metadata": {},
   "outputs": [],
   "source": [
    "import os\n",
    "import random\n",
    "import shutil\n",
    "\n",
    "# Path to the directory containing all images\n",
    "data_dir = './data/extracted_imgs'  # Replace with your data directory path\n",
    "\n",
    "# Paths for train, validation, and test directories\n",
    "train_dir = './data/natural_images/train'\n",
    "valid_dir = './data/natural_images/valid'\n",
    "test_dir = './data/natural_images/test'\n",
    "\n",
    "# Ensure the directories exist\n",
    "for dir_path in [train_dir, valid_dir, test_dir]:\n",
    "    if not os.path.exists(dir_path):\n",
    "        os.makedirs(dir_path)\n",
    "\n",
    "# Get a list of all files in the data directory\n",
    "all_files = os.listdir(data_dir)\n",
    "random.shuffle(all_files)  # Shuffle the list to ensure random selection\n",
    "\n",
    "# Split the files into train, valid, and test\n",
    "train_files = all_files[:10000]\n",
    "valid_files = all_files[10000:17000]\n",
    "test_files = all_files[17000:18500]\n",
    "\n",
    "# Function to copy files to a target directory\n",
    "def copy_files(files, target_dir):\n",
    "    for file in files:\n",
    "        source_path = os.path.join(data_dir, file)\n",
    "        target_path = os.path.join(target_dir, file)\n",
    "        shutil.copy(source_path, target_path)\n",
    "\n",
    "# Copy files to respective directories\n",
    "copy_files(train_files, train_dir)\n",
    "copy_files(valid_files, valid_dir)\n",
    "copy_files(test_files, test_dir)\n",
    "\n",
    "print(\"Dataset split into train, validation, and test sets.\")\n"
   ]
  }
 ],
 "metadata": {
  "kernelspec": {
   "display_name": "torch",
   "language": "python",
   "name": "python3"
  },
  "language_info": {
   "name": "python",
   "version": "3.9.16"
  }
 },
 "nbformat": 4,
 "nbformat_minor": 2
}

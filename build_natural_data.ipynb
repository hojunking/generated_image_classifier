{
 "cells": [
  {
   "cell_type": "code",
   "execution_count": null,
   "metadata": {},
   "outputs": [],
   "source": [
    "import os\n",
    "import shutil"
   ]
  },
  {
   "cell_type": "code",
   "execution_count": null,
   "metadata": {},
   "outputs": [],
   "source": [
    "# Paths to the directories\n",
    "label_dir = '../Data/genc/labels/train2017'  # Replace with your label directory path\n",
    "image_dir = '../Data/genc/images/train2017'  # Replace with your image directory path\n",
    "output_dir = 'path/to/output/dir'  # Replace with your desired output directory\n",
    "\n",
    "missed_cnt = 0 \n",
    "# Ensure output directory exists\n",
    "if not os.path.exists(output_dir):\n",
    "    os.makedirs(output_dir)\n",
    "\n",
    "# Process each label file\n",
    "for filename in os.listdir(label_dir):\n",
    "    if filename.endswith('.txt'):\n",
    "        with open(os.path.join(label_dir, filename), 'r') as file:\n",
    "            if any('0 ' in line for line in file):  # Check for class ID 0\n",
    "                # Corresponding image file\n",
    "                image_filename = filename.replace('.txt', '.jpg')  # Change extension as needed\n",
    "                image_path = os.path.join(image_dir, image_filename)\n",
    "\n",
    "                if os.path.exists(image_path):\n",
    "                    # Copy image to output directory\n",
    "                    shutil.copy(image_path, os.path.join(output_dir, image_filename))\n",
    "                else:\n",
    "                    missed_cnt +1\n",
    "\n",
    "print(missed_cnt)\n",
    "\n",
    "# End of script\n"
   ]
  }
 ],
 "metadata": {
  "kernelspec": {
   "display_name": "torch",
   "language": "python",
   "name": "python3"
  },
  "language_info": {
   "name": "python",
   "version": "3.9.16"
  }
 },
 "nbformat": 4,
 "nbformat_minor": 2
}
